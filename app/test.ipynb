{
 "cells": [
  {
   "cell_type": "code",
   "execution_count": 1,
   "metadata": {},
   "outputs": [
    {
     "name": "stderr",
     "output_type": "stream",
     "text": [
      "/home/koala/.local/lib/python3.11/site-packages/tqdm/auto.py:21: TqdmWarning: IProgress not found. Please update jupyter and ipywidgets. See https://ipywidgets.readthedocs.io/en/stable/user_install.html\n",
      "  from .autonotebook import tqdm as notebook_tqdm\n"
     ]
    }
   ],
   "source": [
    "import pandas as pd\n",
    "import numpy as np\n",
    "import spacy\n",
    "from spacy.lang.en.stop_words import STOP_WORDS\n",
    "import re\n",
    "\n",
    "# Load the spaCy model\n",
    "nlp = spacy.load(\"en_core_web_sm\")\n",
    "\n",
    "# Load your DataFrame\n",
    "df_resume = pd.read_csv(\"/home/koala/github/NLP/NLP-A4/data/Resume.csv\")\n",
    "\n",
    "# Shuffle and reduce the dataset to the first 500 entries for this task\n",
    "df_resume = df_resume.reindex(np.random.permutation(df_resume.index))\n",
    "df_resume = df_resume.iloc[:500].reset_index(drop=True)\n",
    "\n",
    "# Preprocessing function from your code\n",
    "def preprocessing(sentence):\n",
    "    stopwords = list(STOP_WORDS)\n",
    "    doc = nlp(sentence)\n",
    "    clean_tokens = []\n",
    "    for token in doc:\n",
    "        if token.text not in stopwords and token.pos_ != 'PUNCT' and token.pos_ != 'SYM' and token.pos_ != 'SPACE':\n",
    "            clean_tokens.append(token.lemma_.lower().strip())\n",
    "    return \" \".join(clean_tokens)\n",
    "\n",
    "# Function to extract skills (assuming you have a way to identify them as 'SKILL')\n",
    "def get_skills(text):\n",
    "    doc = nlp(text)\n",
    "    skills = []\n",
    "    for ent in doc.ents:\n",
    "        if re.match(r'^SKILL', ent.label_):\n",
    "            skills.append(ent.text)\n",
    "    return skills\n",
    "\n",
    "# Function to extract job titles\n",
    "def get_job_titles(text):\n",
    "    doc = nlp(text)\n",
    "    job_titles = []\n",
    "    for ent in doc.ents:\n",
    "        if ent.label_ == 'JOB_TITLE':  # Assuming 'JOB_TITLE' is a defined entity in your NER model\n",
    "            job_titles.append(ent.text)\n",
    "    return job_titles\n",
    "\n",
    "# Apply preprocessing and extract skills\n",
    "df_resume['Clean_resume'] = df_resume['Resume_str'].apply(preprocessing)\n",
    "# df_resume['Skills'] = df_resume['Clean_resume'].apply(get_skills)\n",
    "\n",
    "# Extract job titles - this requires your attention to correctly identify job titles\n",
    "df_resume['Job_Titles'] = df_resume['Clean_resume'].apply(get_job_titles)\n",
    "\n",
    "# Since you haven't defined how to uniquely identify job titles, adjust the `get_job_titles` function as necessary.\n",
    "\n",
    "# Save the first 500 entries with skills and job titles into a new CSV\n",
    "df_resume[['Job_Titles']].to_csv(\"extracted_skills_job_titles.csv\", index=False)\n"
   ]
  },
  {
   "cell_type": "code",
   "execution_count": null,
   "metadata": {},
   "outputs": [],
   "source": []
  }
 ],
 "metadata": {
  "kernelspec": {
   "display_name": "Python 3",
   "language": "python",
   "name": "python3"
  },
  "language_info": {
   "codemirror_mode": {
    "name": "ipython",
    "version": 3
   },
   "file_extension": ".py",
   "mimetype": "text/x-python",
   "name": "python",
   "nbconvert_exporter": "python",
   "pygments_lexer": "ipython3",
   "version": "3.11.6"
  }
 },
 "nbformat": 4,
 "nbformat_minor": 2
}
